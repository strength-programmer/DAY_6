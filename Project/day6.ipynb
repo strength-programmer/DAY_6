{
 "cells": [
  {
   "cell_type": "markdown",
   "metadata": {},
   "source": [
    "# Southeast Asian Android Phone Marketplace Analysis\n",
    "## AI-Powered Analytics Dashboard\n",
    "\n",
    "This notebook analyzes e-commerce data from a Southeast Asian Android phone marketplace using AI agents."
   ]
  },
  {
   "cell_type": "code",
   "execution_count": null,
   "metadata": {},
   "source": [
    "# Import required libraries\n",
    "import pandas as pd\n",
    "import numpy as np\n",
    "import plotly.express as px\n",
    "import plotly.graph_objects as go\n",
    "from openai import OpenAI\n",
    "from swarm import Swarm, Agent\n",
    "import warnings\n",
    "warnings.filterwarnings('ignore')"
   ]
  },
  {
   "cell_type": "markdown",
   "metadata": {},
   "source": [
    "### Load and Preprocess Data"
   ]
  },
  {
   "cell_type": "code",
   "execution_count": null,
   "metadata": {},
   "source": [
    "# Load the dataset\n",
    "df = pd.read_csv('ai first sales data - sales.csv')\n",
    "\n",
    "# Data preprocessing function\n",
    "def preprocess_data(df):\n",
    "    df_clean = df.copy()\n",
    "    \n",
    "    # Convert numeric columns\n",
    "    numeric_columns = ['revenue', 'transactions', 'pageviews', 'visits', \n",
    "                      'productClick', 'addToCart', 'checkout', 'ad_spend']\n",
    "    \n",
    "    for col in numeric_columns:\n",
    "        if col in df_clean.columns:\n",
    "            if df_clean[col].dtype == 'object':\n",
    "                df_clean[col] = df_clean[col].str.replace('₱', '').str.replace(',', '')\n",
    "            df_clean[col] = pd.to_numeric(df_clean[col], errors='coerce')\n",
    "    \n",
    "    # Convert date column\n",
    "    if 'date' in df_clean.columns:\n",
    "        df_clean['date'] = pd.to_datetime(df_clean['date'])\n",
    "    \n",
    "    # Fill missing values\n",
    "    df_clean[numeric_columns] = df_clean[numeric_columns].fillna(0)\n",
    "    \n",
    "    return df_clean\n",
    "\n",
    "# Preprocess the data\n",
    "df_clean = preprocess_data(df)\n",
    "print(f\"Dataset loaded successfully with {len(df_clean)} rows\")\n",
    "df_clean.head()"
   ]
  },
  {
   "cell_type": "markdown",
   "metadata": {},
   "source": [
    "### Data Quality Analysis"
   ]
  },
  {
   "cell_type": "code",
   "execution_count": null,
   "metadata": {},
   "source": [
    "def analyze_data_quality(df):\n",
    "    # Missing values analysis\n",
    "    missing_values = df.isnull().sum()\n",
    "    missing_percentage = (missing_values / len(df)) * 100\n",
    "    \n",
    "    # Basic statistics\n",
    "    numeric_stats = df.describe()\n",
    "    \n",
    "    # Data types\n",
    "    dtypes = df.dtypes\n",
    "    \n",
    "    return missing_percentage, numeric_stats, dtypes\n",
    "\n",
    "missing_pct, stats, dtypes = analyze_data_quality(df_clean)\n",
    "print(\"\\nMissing Values (%):\\n\", missing_pct)\n",
    "print(\"\\nData Types:\\n\", dtypes)\n",
    "print(\"\\nNumeric Statistics:\\n\", stats)"
   ]
  },
  {
   "cell_type": "markdown",
   "metadata": {},
   "source": [
    "### Marketing Channel Analysis"
   ]
  },
  {
   "cell_type": "code",
   "execution_count": null,
   "metadata": {},
   "source": [
    "# Analyze channel performance\n",
    "channel_metrics = df_clean.groupby('source').agg({\n",
    "    'revenue': 'sum',\n",
    "    'transactions': 'sum',\n",
    "    'ad_spend': 'sum'\n",
    "}).reset_index()\n",
    "\n",
    "# Calculate ROI\n",
    "channel_metrics['ROI'] = (channel_metrics['revenue'] - channel_metrics['ad_spend']) / channel_metrics['ad_spend']\n",
    "\n",
    "# Visualize channel performance\n",
    "fig = px.bar(channel_metrics, x='source', y='revenue',\n",
    "             title='Revenue by Marketing Channel')\n",
    "fig.show()\n",
    "\n",
    "# ROI visualization\n",
    "fig = px.bar(channel_metrics, x='source', y='ROI',\n",
    "             title='ROI by Marketing Channel')\n",
    "fig.show()\n",
    "\n",
    "channel_metrics"
   ]
  },
  {
   "cell_type": "markdown",
   "metadata": {},
   "source": [
    "### Customer Journey Analysis"
   ]
  },
  {
   "cell_type": "code",
   "execution_count": null,
   "metadata": {},
   "source": [
    "# Create funnel data\n",
    "funnel_data = {\n",
    "    'Stage': ['Pageviews', 'Product Clicks', 'Add to Cart', 'Checkout', 'Transactions'],\n",
    "    'Count': [\n",
    "        df_clean['pageviews'].sum(),\n",
    "        df_clean['productClick'].sum(),\n",
    "        df_clean['addToCart'].sum(),\n",
    "        df_clean['checkout'].sum(),\n",
    "        df_clean['transactions'].sum()\n",
    "    ]\n",
    "}\n",
    "\n",
    "# Create funnel visualization\n",
    "fig = go.Figure(go.Funnel(y=funnel_data['Stage'], x=funnel_data['Count']))\n",
    "fig.update_layout(title='Customer Journey Funnel')\n",
    "fig.show()\n",
    "\n",
    "# Calculate conversion rates\n",
    "conversion_rates = pd.DataFrame({\n",
    "    'Stage': ['Click-through Rate', 'Add-to-Cart Rate', 'Checkout Rate', 'Purchase Rate'],\n",
    "    'Rate': [\n",
    "        df_clean['productClick'].sum() / df_clean['pageviews'].sum() * 100,\n",
    "        df_clean['addToCart'].sum() / df_clean['productClick'].sum() * 100,\n",
    "        df_clean['checkout'].sum() / df_clean['addToCart'].sum() * 100,\n",
    "        df_clean['transactions'].sum() / df_clean['checkout'].sum() * 100\n",
    "    ]\n",
    "})\n",
    "\n",
    "conversion_rates"
   ]
  },
  {
   "cell_type": "markdown",
   "metadata": {},
   "source": [
    "### Revenue Analysis"
   ]
  },
  {
   "cell_type": "code",
   "execution_count": null,
   "metadata": {},
   "source": [
    "# Daily revenue trend\n",
    "daily_revenue = df_clean.groupby('date')['revenue'].sum().reset_index()\n",
    "\n",
    "# Plot revenue trend\n",
    "fig = px.line(daily_revenue, x='date', y='revenue',\n",
    "              title='Daily Revenue Trend')\n",
    "fig.show()\n",
    "\n",
    "# Revenue statistics\n",
    "revenue_stats = daily_revenue['revenue'].describe()\n",
    "print(\"\\nRevenue Statistics:\")\n",
    "print(revenue_stats)\n",
    "\n",
    "# Calculate month-over-month growth\n",
    "monthly_revenue = df_clean.groupby(df_clean['date'].dt.to_period('M'))['revenue'].sum()\n",
    "monthly_growth = monthly_revenue.pct_change() * 100\n",
    "\n",
    "print(\"\\nMonth-over-Month Growth:\")\n",
    "print(monthly_growth)"
   ]
  },
  {
   "cell_type": "markdown",
   "metadata": {},
   "source": [
    "### Device Analysis"
   ]
  },
  {
   "cell_type": "code",
   "execution_count": null,
   "metadata": {},
   "source": [
    "# Device performance metrics\n",
    "device_metrics = df_clean.groupby('device').agg({\n",
    "    'revenue': 'sum',\n",
    "    'transactions': 'sum',\n",
    "    'pageviews': 'sum'\n",
    "}).reset_index()\n",
    "\n",
    "# Calculate conversion rate by device\n",
    "device_metrics['conversion_rate'] = (device_metrics['transactions'] / device_metrics['pageviews']) * 100\n",
    "\n",
    "# Visualize device performance\n",
    "fig = px.pie(device_metrics, values='revenue', names='device',\n",
    "             title='Revenue Distribution by Device')\n",
    "fig.show()\n",
    "\n",
    "device_metrics"
   ]
  },
  {
   "cell_type": "markdown",
   "metadata": {},
   "source": [
    "### Key Insights and Recommendations"
   ]
  },
  {
   "cell_type": "code",
   "execution_count": null,
   "metadata": {},
   "source": [
    "# Generate insights based on the analysis\n",
    "print(\"Key Insights:\")\n",
    "print(\"1. Channel Performance:\")\n",
    "top_channel = channel_metrics.sort_values('revenue', ascending=False).iloc[0]\n",
    "print(f\"   - Top performing channel: {top_channel['source']} with ₱{top_channel['revenue']:,.2f} in revenue\")\n",
    "\n",
    "print(\"\\n2. Customer Journey:\")\n",
    "print(f\"   - Overall conversion rate: {(df_clean['transactions'].sum() / df_clean['pageviews'].sum() * 100):.2f}%\")\n",
    "\n",
    "print(\"\\n3. Device Usage:\")\n",
    "top_device = device_metrics.sort_values('revenue', ascending=False).iloc[0]\n",
    "print(f\"   - Preferred device: {top_device['device']} with {top_device['conversion_rate']:.2f}% conversion rate\")\n",
    "\n",
    "print(\"\\nRecommendations:\")\n",
    "print(\"1. Marketing Strategy:\")\n",
    "print(f\"   - Focus budget allocation on {top_channel['source']} channel\")\n",
    "print(\"   - Optimize campaigns for better ROI\")\n",
    "\n",
    "print(\"\\n2. User Experience:\")\n",
    "print(\"   - Improve checkout process to reduce abandonment\")\n",
    "print(f\"   - Optimize for {top_device['device']} experience\")\n",
    "\n",
    "print(\"\\n3. Revenue Growth:\")\n",
    "print(\"   - Implement personalized marketing campaigns\")\n",
    "print(\"   - Focus on high-value customer segments\")"
   ]
  }
 ],
 "metadata": {
  "kernelspec": {
   "display_name": "Python 3",
   "language": "python",
   "name": "python3"
  }
 },
 "nbformat": 4,
 "nbformat_minor": 4
} 
