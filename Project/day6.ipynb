{
 "cells": [
  {
   "cell_type": "markdown",
   "metadata": {},
   "source": [
    "# Southeast Asian Android Phone Marketplace Analysis\n",
    "## AI-Powered Analytics Dashboard"
   ]
  },
  {
   "cell_type": "code",
   "execution_count": null,
   "metadata": {},
   "outputs": [],
   "source": [
    "# Install required packages\n",
    "!pip install openai\n",
    "!pip install git+https://github.com/openai/swarm.git"
   ]
  },
  {
   "cell_type": "code",
   "execution_count": null,
   "metadata": {},
   "outputs": [],
   "source": [
    "import pandas as pd\n",
    "import plotly.express as px\n",
    "import plotly.graph_objects as go\n",
    "from openai import OpenAI\n",
    "from swarm import Swarm\n",
    "from agents.base_agent import BaseAgent\n",
    "from agents.data_quality_agent import DataQualityAgent\n",
    "from agents.marketing_agent import MarketingAgent\n",
    "from agents.customer_journey_agent import CustomerJourneyAgent\n",
    "from agents.revenue_agent import RevenueAgent\n",
    "from agents.visual_agent import VisualAgent\n",
    "import logging\n",
    "\n",
    "# Set up logging\n",
    "logging.basicConfig(level=logging.INFO)\n",
    "logger = logging.getLogger(__name__)"
   ]
  },
  {
   "cell_type": "code",
   "execution_count": null,
   "metadata": {},
   "outputs": [],
   "source": [
    "# Initialize OpenAI client\n",
    "api = OpenAI(api_key=\"your-api-key-here\")\n",
    "client = Swarm(api)\n",
    "\n",
    "# Load and preprocess data\n",
    "df = pd.read_csv('ai first sales data - sales.csv')\n",
    "\n",
    "# Initialize base agent for preprocessing\n",
    "base_agent = BaseAgent(\"Base\", \"\", [])\n",
    "df_clean = base_agent.preprocess_data(df)\n",
    "\n",
    "print(f\"Dataset loaded with {len(df_clean)} rows\")"
   ]
  },
  {
   "cell_type": "code",
   "execution_count": null,
   "metadata": {},
   "outputs": [],
   "source": [
    "# Initialize all agents\n",
    "agents = {\n",
    "    'data_quality': DataQualityAgent(),\n",
    "    'marketing': MarketingAgent(),\n",
    "    'customer_journey': CustomerJourneyAgent(),\n",
    "    'revenue': RevenueAgent(),\n",
    "    'visual': VisualAgent()\n",
    "}"
   ]
  },
  {
   "cell_type": "markdown",
   "metadata": {},
   "source": [
    "### 1. Data Quality Analysis"
   ]
  },
  {
   "cell_type": "code",
   "execution_count": null,
   "metadata": {},
   "outputs": [],
   "source": [
    "quality_response = client.run(\n",
    "    agent=agents['data_quality'],\n",
    "    messages=[{\n",
    "        \"role\": \"user\",\n",
    "        \"content\": \"Analyze data quality and provide insights\"\n",
    "    }],\n",
    "    context_variables={\"dataframe\": df_clean}\n",
    ")\n",
    "\n",
    "print(\"\\nData Quality Analysis:\")\n",
    "if hasattr(quality_response, 'messages'):\n",
    "    print(quality_response.messages[-1].content)\n",
    "else:\n",
    "    print(quality_response.get('content', str(quality_response)))"
   ]
  },
  {
   "cell_type": "markdown",
   "metadata": {},
   "source": [
    "### 2. Marketing Analysis"
   ]
  },
  {
   "cell_type": "code",
   "execution_count": null,
   "metadata": {},
   "outputs": [],
   "source": [
    "marketing_response = client.run(\n",
    "    agent=agents['marketing'],\n",
    "    messages=[{\"role\": \"user\", \"content\": \"Analyze marketing performance\"}],\n",
    "    context_variables={\"dataframe\": df_clean}\n",
    ")\n",
    "\n",
    "print(\"\\nMarketing Analysis:\")\n",
    "if hasattr(marketing_response, 'messages'):\n",
    "    print(marketing_response.messages[-1].content)\n",
    "\n",
    "# Marketing visualizations\n",
    "source_metrics = df_clean.groupby('source').agg({\n",
    "    'revenue': 'sum',\n",
    "    'ad_spend': 'sum',\n",
    "    'transactions': 'sum'\n",
    "}).reset_index()\n",
    "\n",
    "# Revenue by Channel\n",
    "fig1 = px.pie(source_metrics, values='revenue', names='source',\n",
    "              title='Revenue by Channel')\n",
    "fig1.show()\n",
    "\n",
    "# Revenue vs Ad Spend\n",
    "fig2 = px.bar(source_metrics, x='source', y=['revenue', 'ad_spend'],\n",
    "              title='Revenue vs Ad Spend by Channel')\n",
    "fig2.show()"
   ]
  },
  {
   "cell_type": "markdown",
   "metadata": {},
   "source": [
    "### 3. Customer Journey Analysis"
   ]
  },
  {
   "cell_type": "code",
   "execution_count": null,
   "metadata": {},
   "outputs": [],
   "source": [
    "journey_response = client.run(\n",
    "    agent=agents['customer_journey'],\n",
    "    messages=[{\"role\": \"user\", \"content\": \"Analyze customer journey\"}],\n",
    "    context_variables={\"dataframe\": df_clean}\n",
    ")\n",
    "\n",
    "print(\"\\nCustomer Journey Analysis:\")\n",
    "if hasattr(journey_response, 'messages'):\n",
    "    print(journey_response.messages[-1].content)\n",
    "\n",
    "# Funnel visualization\n",
    "funnel_data = {\n",
    "    'Stage': ['Pageviews', 'Product Clicks', 'Add to Cart', 'Checkout', 'Transactions'],\n",
    "    'Count': [\n",
    "        df_clean['pageviews'].sum(),\n",
    "        df_clean['productClick'].sum(),\n",
    "        df_clean['addToCart'].sum(),\n",
    "        df_clean['checkout'].sum(),\n",
    "        df_clean['transactions'].sum()\n",
    "    ]\n",
    "}\n",
    "fig = go.Figure(go.Funnel(y=funnel_data['Stage'], x=funnel_data['Count']))\n",
    "fig.update_layout(title='Customer Journey Funnel')\n",
    "fig.show()"
   ]
  },
  {
   "cell_type": "markdown",
   "metadata": {},
   "source": [
    "### 4. Revenue Analysis"
   ]
  },
  {
   "cell_type": "code",
   "execution_count": null,
   "metadata": {},
   "outputs": [],
   "source": [
    "revenue_response = client.run(\n",
    "    agent=agents['revenue'],\n",
    "    messages=[{\"role\": \"user\", \"content\": \"Analyze revenue patterns\"}],\n",
    "    context_variables={\"dataframe\": df_clean}\n",
    ")\n",
    "\n",
    "print(\"\\nRevenue Analysis:\")\n",
    "if hasattr(revenue_response, 'messages'):\n",
    "    print(revenue_response.messages[-1].content)\n",
    "\n",
    "# Revenue trend visualization\n",
    "daily_revenue = df_clean.groupby('date')['revenue'].sum().reset_index()\n",
    "fig = px.line(daily_revenue, x='date', y='revenue',\n",
    "              title='Daily Revenue Trend')\n",
    "fig.update_xaxes(type='date')\n",
    "fig.show()"
   ]
  },
  {
   "cell_type": "markdown",
   "metadata": {},
   "source": [
    "### 5. Visual Analysis"
   ]
  },
  {
   "cell_type": "code",
   "execution_count": null,
   "metadata": {},
   "outputs": [],
   "source": [
    "visual_response = client.run(\n",
    "    agent=agents['visual'],\n",
    "    messages=[{\"role\": \"user\", \"content\": \"Create visualizations\"}],\n",
    "    context_variables={\"dataframe\": df_clean}\n",
    ")\n",
    "\n",
    "if hasattr(visual_response, 'figures'):\n",
    "    for fig in visual_response.figures:\n",
    "        fig.show()"
   ]
  }
 ],
 "metadata": {
  "kernelspec": {
   "display_name": "Python 3",
   "language": "python",
   "name": "python3"
  },
  "language_info": {
   "codemirror_mode": {
    "name": "ipython",
    "version": 3
   },
   "file_extension": ".py",
   "mimetype": "text/x-python",
   "name": "python",
   "nbconvert_exporter": "python",
   "pygments_lexer": "ipython3",
   "version": "3.8.0"
  }
 },
 "nbformat": 4,
 "nbformat_minor": 4
}
