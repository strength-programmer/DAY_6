{
 "cells": [
  {
   "cell_type": "markdown",
   "metadata": {},
   "source": [
    "# Southeast Asian Android Phone Marketplace Analysis\n",
    "## AI-Powered Analytics Dashboard"
   ]
  },
  {
   "cell_type": "code",
   "execution_count": null,
   "metadata": {},
   "outputs": [],
   "source": [
    "# Install required packages\n",
    "!pip install openai\n",
    "!pip install git+https://github.com/openai/swarm.git"
   ]
  },
  {
   "cell_type": "code",
   "execution_count": null,
   "metadata": {},
   "outputs": [],
   "source": [
    "import pandas as pd\n",
    "import plotly.express as px\n",
    "import plotly.graph_objects as go\n",
    "from openai import OpenAI\n",
    "from swarm import Swarm, Agent\n",
    "import logging\n",
    "\n",
    "# Set up logging\n",
    "logging.basicConfig(level=logging.INFO)\n",
    "logger = logging.getLogger(__name__)"
   ]
  },
  {
   "cell_type": "code",
   "execution_count": null,
   "metadata": {},
   "outputs": [],
   "source": [
    "# Load and preprocess data\n",
    "df = pd.read_csv('https://raw.githubusercontent.com/strength-programmer/DAY_6/refs/heads/main/Project/ai%20first%20sales%20data%20-%20sales.csv')\n",
    "\n",
    "# Data preprocessing\n",
    "def preprocess_data(df):\n",
    "    df_clean = df.copy()\n",
    "    numeric_columns = ['revenue', 'transactions', 'pageviews', 'visits', \n",
    "                      'productClick', 'addToCart', 'checkout', 'ad_spend']\n",
    "    \n",
    "    for col in numeric_columns:\n",
    "        if col in df_clean.columns:\n",
    "            df_clean[col] = pd.to_numeric(df_clean[col], errors='coerce')\n",
    "    \n",
    "    if 'date' in df_clean.columns:\n",
    "        df_clean['date'] = pd.to_datetime(df_clean['date'])\n",
    "    \n",
    "    return df_clean\n",
    "\n",
    "df_clean = preprocess_data(df)\n",
    "print(f\"Dataset loaded with {len(df_clean)} rows\")"
   ]
  },
  {
   "cell_type": "code",
   "execution_count": null,
   "metadata": {},
   "outputs": [],
   "source": [
    "# Initialize OpenAI client\n",
    "api = OpenAI(api_key=\"your-api-key-here\")\n",
    "client = Swarm(api)\n",
    "\n",
    "# Initialize agents\n",
    "data_quality_agent = Agent(\n",
    "    name=\"Data Quality Agent\",\n",
    "    instructions=\"\"\"Analyze data quality focusing on:\n",
    "    1. Missing values and data completeness\n",
    "    2. Anomalies in metrics\n",
    "    3. Data type validation\n",
    "    4. Suspicious patterns\"\"\"\n",
    ")\n",
    "\n",
    "marketing_agent = Agent(\n",
    "    name=\"Marketing Agent\",\n",
    "    instructions=\"\"\"Analyze marketing performance focusing on:\n",
    "    1. Channel performance\n",
    "    2. ROI analysis\n",
    "    3. Campaign effectiveness\"\"\"\n",
    ")\n",
    "\n",
    "customer_journey_agent = Agent(\n",
    "    name=\"Customer Journey Agent\",\n",
    "    instructions=\"\"\"Analyze customer journey focusing on:\n",
    "    1. Conversion funnel\n",
    "    2. Drop-off points\n",
    "    3. User behavior patterns\"\"\"\n",
    ")\n",
    "\n",
    "revenue_agent = Agent(\n",
    "    name=\"Revenue Agent\",\n",
    "    instructions=\"\"\"Analyze revenue patterns focusing on:\n",
    "    1. Revenue trends\n",
    "    2. Growth analysis\n",
    "    3. Performance metrics\"\"\"\n",
    ")"
   ]
  },
  {
   "cell_type": "markdown",
   "metadata": {},
   "source": [
    "### 1. Data Quality Analysis"
   ]
  },
  {
   "cell_type": "code",
   "execution_count": null,
   "metadata": {},
   "outputs": [],
   "source": [
    "quality_response = client.run(\n",
    "    agent=data_quality_agent,\n",
    "    messages=[{\n",
    "        \"role\": \"user\",\n",
    "        \"content\": \"Analyze the data quality and provide insights about missing values, anomalies, and data types.\"\n",
    "    }],\n",
    "    context_variables={\"dataframe\": df_clean}\n",
    ")\n",
    "\n",
    "print(\"\\nData Quality Analysis:\")\n",
    "print(quality_response.messages[-1].content)"
   ]
  },
  {
   "cell_type": "markdown",
   "metadata": {},
   "source": [
    "### 2. Marketing Analysis"
   ]
  },
  {
   "cell_type": "code",
   "execution_count": null,
   "metadata": {},
   "outputs": [],
   "source": [
    "# Marketing Analysis\n",
    "marketing_response = client.run(\n",
    "    agent=marketing_agent,\n",
    "    messages=[{\"role\": \"user\", \"content\": \"Analyze marketing performance and ROI across channels\"}],\n",
    "    context_variables={\"dataframe\": df_clean}\n",
    ")\n",
    "\n",
    "print(\"\\nMarketing Analysis:\")\n",
    "print(marketing_response.messages[-1].content)\n",
    "\n",
    "# Marketing visualizations\n",
    "source_metrics = df_clean.groupby('source').agg({\n",
    "    'revenue': 'sum',\n",
    "    'ad_spend': 'sum',\n",
    "    'transactions': 'sum'\n",
    "}).reset_index()\n",
    "\n",
    "# Revenue by Channel\n",
    "fig1 = px.pie(source_metrics, values='revenue', names='source',\n",
    "              title='Revenue by Channel')\n",
    "fig1.show()\n",
    "\n",
    "# Revenue vs Ad Spend\n",
    "fig2 = px.bar(source_metrics, x='source', y=['revenue', 'ad_spend'],\n",
    "              title='Revenue vs Ad Spend by Channel')\n",
    "fig2.show()"
   ]
  },
  {
   "cell_type": "markdown",
   "metadata": {},
   "source": [
    "### 3. Customer Journey Analysis"
   ]
  },
  {
   "cell_type": "code",
   "execution_count": null,
   "metadata": {},
   "outputs": [],
   "source": [
    "journey_response = client.run(\n",
    "    agent=customer_journey_agent,\n",
    "    messages=[{\"role\": \"user\", \"content\": \"Analyze the customer journey and conversion funnel\"}],\n",
    "    context_variables={\"dataframe\": df_clean}\n",
    ")\n",
    "\n",
    "print(\"\\nCustomer Journey Analysis:\")\n",
    "print(journey_response.messages[-1].content)\n",
    "\n",
    "# Funnel visualization\n",
    "funnel_data = {\n",
    "    'Stage': ['Pageviews', 'Product Clicks', 'Add to Cart', 'Checkout', 'Transactions'],\n",
    "    'Count': [\n",
    "        df_clean['pageviews'].sum(),\n",
    "        df_clean['productClick'].sum(),\n",
    "        df_clean['addToCart'].sum(),\n",
    "        df_clean['checkout'].sum(),\n",
    "        df_clean['transactions'].sum()\n",
    "    ]\n",
    "}\n",
    "fig = go.Figure(go.Funnel(y=funnel_data['Stage'], x=funnel_data['Count']))\n",
    "fig.update_layout(title='Customer Journey Funnel')\n",
    "fig.show()"
   ]
  },
  {
   "cell_type": "markdown",
   "metadata": {},
   "source": [
    "### 4. Revenue Analysis"
   ]
  },
  {
   "cell_type": "code",
   "execution_count": null,
   "metadata": {},
   "outputs": [],
   "source": [
    "revenue_response = client.run(\n",
    "    agent=revenue_agent,\n",
    "    messages=[{\"role\": \"user\", \"content\": \"Analyze revenue trends and patterns\"}],\n",
    "    context_variables={\"dataframe\": df_clean}\n",
    ")\n",
    "\n",
    "print(\"\\nRevenue Analysis:\")\n",
    "print(revenue_response.messages[-1].content)\n",
    "\n",
    "# Revenue trend visualization\n",
    "daily_revenue = df_clean.groupby('date')['revenue'].sum().reset_index()\n",
    "fig = px.line(daily_revenue, x='date', y='revenue',\n",
    "              title='Daily Revenue Trend')\n",
    "fig.update_xaxes(type='date')\n",
    "fig.show()"
   ]
  }
 ],
 "metadata": {
  "kernelspec": {
   "display_name": "Python 3",
   "language": "python",
   "name": "python3"
  }
 },
 "nbformat": 4,
 "nbformat_minor": 4
}
