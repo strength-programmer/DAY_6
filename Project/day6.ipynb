{
 "cells": [
  {
   "cell_type": "markdown",
   "metadata": {},
   "source": [
    "# Southeast Asian Android Phone Marketplace Analysis\n",
    "## Data Analysis and AI Insights"
   ]
  },
  {
   "cell_type": "code",
   "execution_count": null,
   "metadata": {},
   "outputs": [],
   "source": [
    "# Install required packages\n",
    "!pip install openai\n",
    "!pip install git+https://github.com/openai/swarm.git"
   ]
  },
  {
   "cell_type": "code",
   "execution_count": null,
   "metadata": {},
   "outputs": [],
   "source": [
    "import pandas as pd\n",
    "import plotly.express as px\n",
    "import plotly.graph_objects as go\n",
    "from openai import OpenAI\n",
    "from swarm import Swarm, Agent\n",
    "import logging\n",
    "\n",
    "# Set up logging\n",
    "logging.basicConfig(level=logging.INFO)\n",
    "logger = logging.getLogger(__name__)"
   ]
  },
  {
   "cell_type": "code",
   "execution_count": null,
   "metadata": {},
   "outputs": [],
   "source": [
    "# Load and preprocess data\n",
    "df = pd.read_csv('ai first sales data - sales.csv')\n",
    "\n",
    "# Data preprocessing\n",
    "numeric_columns = ['revenue', 'transactions', 'pageviews', 'visits', \n",
    "                  'productClick', 'addToCart', 'checkout', 'ad_spend']\n",
    "df_clean = df.copy()\n",
    "\n",
    "for col in numeric_columns:\n",
    "    if col in df_clean.columns:\n",
    "        df_clean[col] = pd.to_numeric(df_clean[col], errors='coerce')\n",
    "\n",
    "if 'date' in df_clean.columns:\n",
    "    df_clean['date'] = pd.to_datetime(df_clean['date'])\n",
    "\n",
    "print(f\"Dataset loaded with {len(df_clean)} rows\")"
   ]
  },
  {
   "cell_type": "code",
   "execution_count": null,
   "metadata": {},
   "outputs": [],
   "source": [
    "# Initialize OpenAI client\n",
    "api = OpenAI(api_key=\"your-api-key-here\")\n",
    "client = Swarm(api)"
   ]
  },
  {
   "cell_type": "code",
   "execution_count": null,
   "metadata": {},
   "outputs": [],
   "source": [
    "# Create Data Quality Agent\n",
    "data_quality_agent = Agent(\n",
    "    name=\"Data Quality Agent\",\n",
    "    instructions=\"\"\"Analyze data quality focusing on:\n",
    "    1. Missing values\n",
    "    2. Anomalies in metrics\n",
    "    3. Data type validation\n",
    "    4. Suspicious patterns\"\"\"\n",
    ")\n",
    "\n",
    "# Run data quality analysis\n",
    "quality_response = client.run(\n",
    "    agent=data_quality_agent,\n",
    "    messages=[{\"role\": \"user\", \"content\": \"Analyze data quality and provide insights\"}],\n",
    "    context_variables={\"dataframe\": df_clean}\n",
    ")\n",
    "\n",
    "print(\"\\nData Quality Analysis:\")\n",
    "print(quality_response.messages[-1].content)"
   ]
  },
  {
   "cell_type": "code",
   "execution_count": null,
   "metadata": {},
   "outputs": [],
   "source": [
    "# Marketing Analysis Visualizations\n",
    "source_metrics = df_clean.groupby('source').agg({\n",
    "    'revenue': 'sum',\n",
    "    'ad_spend': 'sum',\n",
    "    'transactions': 'sum'\n",
    "}).reset_index()\n",
    "\n",
    "# Revenue by Channel\n",
    "fig1 = px.pie(source_metrics, values='revenue', names='source',\n",
    "              title='Revenue by Channel')\n",
    "fig1.show()\n",
    "\n",
    "# Revenue vs Ad Spend\n",
    "fig2 = px.bar(source_metrics, x='source', y=['revenue', 'ad_spend'],\n",
    "              title='Revenue vs Ad Spend by Channel')\n",
    "fig2.show()"
   ]
  },
  {
   "cell_type": "code",
   "execution_count": null,
   "metadata": {},
   "outputs": [],
   "source": [
    "# Customer Journey Funnel\n",
    "funnel_data = {\n",
    "    'Stage': ['Pageviews', 'Product Clicks', 'Add to Cart', 'Checkout', 'Transactions'],\n",
    "    'Count': [\n",
    "        df_clean['pageviews'].sum(),\n",
    "        df_clean['productClick'].sum(),\n",
    "        df_clean['addToCart'].sum(),\n",
    "        df_clean['checkout'].sum(),\n",
    "        df_clean['transactions'].sum()\n",
    "    ]\n",
    "}\n",
    "\n",
    "fig = go.Figure(go.Funnel(y=funnel_data['Stage'], x=funnel_data['Count']))\n",
    "fig.update_layout(title='Customer Journey Funnel')\n",
    "fig.show()"
   ]
  },
  {
   "cell_type": "code",
   "execution_count": null,
   "metadata": {},
   "outputs": [],
   "source": [
    "# Revenue Trend Analysis\n",
    "daily_revenue = df_clean.groupby('date')['revenue'].sum().reset_index()\n",
    "fig = px.line(daily_revenue, x='date', y='revenue',\n",
    "              title='Daily Revenue Trend')\n",
    "fig.update_xaxes(type='date')\n",
    "fig.show()"
   ]
  }
 ],
 "metadata": {
  "kernelspec": {
   "display_name": "Python 3",
   "language": "python",
   "name": "python3"
  },
  "language_info": {
   "codemirror_mode": {
    "name": "ipython",
    "version": 3
   },
   "file_extension": ".py",
   "mimetype": "text/x-python",
   "name": "python",
   "nbconvert_exporter": "python",
   "pygments_lexer": "ipython3",
   "version": "3.8.0"
  }
 },
 "nbformat": 4,
 "nbformat_minor": 4
}
